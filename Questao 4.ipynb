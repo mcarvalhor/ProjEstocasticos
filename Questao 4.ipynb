{
 "cells": [
  {
   "cell_type": "code",
   "execution_count": 21,
   "metadata": {},
   "outputs": [],
   "source": [
    "import pandas as pd\n",
    "import networkx as nx\n",
    "import matplotlib.pyplot as plt\n",
    "import numpy as np\n",
    "import math\n",
    "import operator\n",
    "import random\n",
    "from numpy.random import randint\n",
    "from numpy.linalg import matrix_power\n",
    "\n"
   ]
  },
  {
   "cell_type": "markdown",
   "metadata": {},
   "source": [
    "## Definir o grafo"
   ]
  },
  {
   "cell_type": "code",
   "execution_count": 22,
   "metadata": {},
   "outputs": [
    {
     "data": {
      "image/png": "[encoded data removed]",
      "text/plain": [
       "<Figure size 648x360 with 1 Axes>"
      ]
     },
     "metadata": {},
     "output_type": "display_data"
    }
   ],
   "source": [
    "graph = nx.Graph()\n",
    "\n",
    "graph.add_edge(0, 1, weight=3)\n",
    "graph.add_edge(0, 3, weight=1)\n",
    "graph.add_edge(0, 4, weight=2)\n",
    "graph.add_edge(3, 4, weight=4)\n",
    "graph.add_edge(2, 4, weight=6)\n",
    "\n",
    "\n",
    "options = {\n",
    "    'node_color': 'pink',\n",
    "    'node_size': 500,\n",
    "    'width': 1,\n",
    "}\n",
    "\n",
    "plt.figure(figsize=(9,5))\n",
    "\n",
    "npos=nx.circular_layout(graph,scale=1)\n",
    "labels = nx.get_edge_attributes(graph,'weight')\n",
    "nx.draw_networkx_edge_labels(graph,pos = npos,edge_labels=labels)\n",
    "\n",
    "nx.draw(graph,pos = npos, **options, with_labels=True)\n",
    "plt.show()"
   ]
  },
  {
   "cell_type": "markdown",
   "metadata": {},
   "source": [
    "## Algoritmo\n",
    "Cria a matriz de adjacências"
   ]
  },
  {
   "cell_type": "code",
   "execution_count": 23,
   "metadata": {},
   "outputs": [
    {
     "data": {
      "text/plain": [
       "matrix([[0, 3, 0, 1, 2],\n",
       "        [3, 0, 0, 0, 0],\n",
       "        [0, 0, 0, 0, 6],\n",
       "        [1, 0, 0, 0, 4],\n",
       "        [2, 0, 6, 4, 0]])"
      ]
     },
     "execution_count": 23,
     "metadata": {},
     "output_type": "execute_result"
    }
   ],
   "source": [
    "A = nx.adjacency_matrix(graph, weight='weight', nodelist=sorted(graph.nodes()))\n",
    "A.todense()"
   ]
  },
  {
   "cell_type": "markdown",
   "metadata": {},
   "source": [
    "Cria a matriz de probabilidade de transiçao"
   ]
  },
  {
   "cell_type": "code",
   "execution_count": 24,
   "metadata": {},
   "outputs": [
    {
     "name": "stdout",
     "output_type": "stream",
     "text": [
      "[[0.         0.5        0.         0.16666667 0.33333333]\n",
      " [1.         0.         0.         0.         0.        ]\n",
      " [0.         0.         0.         0.         1.        ]\n",
      " [0.2        0.         0.         0.         0.8       ]\n",
      " [0.16666667 0.         0.5        0.33333333 0.        ]]\n"
     ]
    }
   ],
   "source": [
    "n = 5\n",
    "P = np.zeros((n,n))\n",
    "\n",
    "for i in range(n):\n",
    "    for j in range(n):\n",
    "        P[i,j] = A[i,j]/np.sum(A[i,:])\n",
    "        \n",
    "print(P)"
   ]
  },
  {
   "cell_type": "code",
   "execution_count": 25,
   "metadata": {},
   "outputs": [],
   "source": [
    "def check_sum_lines(n, P):\n",
    "        \n",
    "    for i in range(n):\n",
    "        for j in range(n):\n",
    "\n",
    "            if(not math.isclose(np.sum(P[i,:]),1)):\n",
    "                print('A matriz não é estocástica')\n",
    "                return False\n",
    "    print('A matriz é estocástica')\n",
    "    return True\n",
    "    "
   ]
  },
  {
   "cell_type": "code",
   "execution_count": 26,
   "metadata": {},
   "outputs": [
    {
     "name": "stdout",
     "output_type": "stream",
     "text": [
      "A matriz é estocástica\n"
     ]
    },
    {
     "data": {
      "text/plain": [
       "True"
      ]
     },
     "execution_count": 26,
     "metadata": {},
     "output_type": "execute_result"
    }
   ],
   "source": [
    "check_sum_lines(5, P)"
   ]
  },
  {
   "cell_type": "markdown",
   "metadata": {},
   "source": [
    "## Cálculo da distribuição estacionária"
   ]
  },
  {
   "cell_type": "markdown",
   "metadata": {},
   "source": [
    "O cálculo foi feito de três formas diferentes:\n",
    "\n",
    "1) Como a distribuição estacionária $\\pi$ representa a probabilidade de chegar em cada estado após um número infinito de passos, podemos representar como: \n",
    "\n",
    "<img src=\"limite1.png\" width=\"200\">\n",
    "\n",
    "Assim calcular o valor da P elevado a um n suficientemente grande é uma boa aproximação da distribuiçao estacionária\n",
    "\n",
    "\n"
   ]
  },
  {
   "cell_type": "code",
   "execution_count": 27,
   "metadata": {},
   "outputs": [
    {
     "data": {
      "text/plain": [
       "array([[0.1875 , 0.09375, 0.1875 , 0.15625, 0.375  ],\n",
       "       [0.1875 , 0.09375, 0.1875 , 0.15625, 0.375  ],\n",
       "       [0.1875 , 0.09375, 0.1875 , 0.15625, 0.375  ],\n",
       "       [0.1875 , 0.09375, 0.1875 , 0.15625, 0.375  ],\n",
       "       [0.1875 , 0.09375, 0.1875 , 0.15625, 0.375  ]])"
      ]
     },
     "execution_count": 27,
     "metadata": {},
     "output_type": "execute_result"
    }
   ],
   "source": [
    "from numpy.linalg import matrix_power\n",
    "\n",
    "power = 1000\n",
    "\n",
    "Pn =  matrix_power(P,power)\n",
    "Pn"
   ]
  },
  {
   "cell_type": "markdown",
   "metadata": {},
   "source": [
    "2) Também podemos descrever a distribuição estacionária como $\\pi = \\pi \\cdot P$, onde $\\pi$ é o autovetor com autovalor $ \\lambda = 1$"
   ]
  },
  {
   "cell_type": "code",
   "execution_count": 28,
   "metadata": {},
   "outputs": [
    {
     "data": {
      "text/plain": [
       "{0: 0.1875000000000007,\n",
       " 1: 0.09375000000000035,\n",
       " 2: 0.1874999999999996,\n",
       " 3: 0.15624999999999983,\n",
       " 4: 0.37499999999999956}"
      ]
     },
     "execution_count": 28,
     "metadata": {},
     "output_type": "execute_result"
    }
   ],
   "source": [
    "stationary_dict = {}\n",
    "# Cálculo dos autovetores e autovalores\n",
    "eigvals, eigvecs = np.linalg.eig(P.T)\n",
    "# Encontrar o autovetor cujo autovalor é próximo de 1\n",
    "pi = eigvecs[:,np.isclose(eigvals, 1)]\n",
    "\n",
    "stationary_dist = (pi / pi.sum()).real\n",
    "\n",
    "for i in range(n):\n",
    "    \n",
    "    stationary_dict[i] = stationary_dist[i][0]\n",
    "    \n",
    "\n",
    "stationary_dict"
   ]
  },
  {
   "cell_type": "markdown",
   "metadata": {},
   "source": [
    "3) Além disso, como a cadeia de Markov é reversível, como mostrado no livro do Sheldon Ross, Introduction to Probability Models podemos calcular utilizando a seguinte fórmula:\n",
    "\n",
    "<img src=\"limite2.png\" width=\"200\">\n"
   ]
  },
  {
   "cell_type": "code",
   "execution_count": 29,
   "metadata": {},
   "outputs": [
    {
     "name": "stdout",
     "output_type": "stream",
     "text": [
      "[0.1875, 0.09375, 0.1875, 0.15625, 0.375]\n"
     ]
    }
   ],
   "source": [
    "pi = [ ] \n",
    "for i in range(n):\n",
    "    pi.append(0)\n",
    "    for j in range(n):\n",
    "        \n",
    "        pi[i] = np.sum(A[i,:])/np.sum(A[:,:])\n",
    "print(pi)"
   ]
  },
  {
   "cell_type": "code",
   "execution_count": 30,
   "metadata": {},
   "outputs": [],
   "source": [
    "def generate_random_from_dist(prob_dict):\n",
    "    \n",
    "    options = []\n",
    "    \n",
    "    for item, prob in prob_dict.items():\n",
    "        options += int(prob*1000) * [item]\n",
    "    \n",
    "    return random.choice(options)\n"
   ]
  },
  {
   "cell_type": "code",
   "execution_count": 31,
   "metadata": {},
   "outputs": [],
   "source": [
    "def generate_dict(list_for_nodes, node):\n",
    "    \n",
    "    d = {}\n",
    "    for l in list_for_nodes:\n",
    "        d[l] = P[node][l]\n",
    "        \n",
    "    return d\n",
    "\n",
    "        "
   ]
  },
  {
   "cell_type": "code",
   "execution_count": 32,
   "metadata": {},
   "outputs": [],
   "source": [
    "# random_node is the start node selected randomly\n",
    "random_node = randint(0, n)\n",
    "\n",
    "visit = {} #initialise the value for all nodes as 0\n",
    "for i in range(n):\n",
    "    visit[i] = 0\n",
    "    \n",
    "# inicializa o primeiro elemento que será visitado\n",
    "visit[random_node] = visit[random_node]+1\n",
    "\n",
    "steps = 10000\n",
    "   \n",
    "for i in range(steps):\n",
    "    \n",
    "    # encontra todas os possíveis vizinhos do vertice\n",
    "    list_for_nodes = list(graph.neighbors(random_node))\n",
    "\n",
    "    # escolhe o próximo passo randomicamente dentre os possiveis vizinhos\n",
    "    prob_dict = generate_dict(list_for_nodes,random_node)\n",
    "    random_node = generate_random_from_dist(prob_dict)\n",
    "    visit[random_node] = visit[random_node] + 1\n",
    "        \n"
   ]
  },
  {
   "cell_type": "code",
   "execution_count": 33,
   "metadata": {},
   "outputs": [
    {
     "name": "stdout",
     "output_type": "stream",
     "text": [
      "[(4, 3770), (2, 1892), (0, 1838), (3, 1558), (1, 943)]\n",
      "[(4, 0.37499999999999956), (0, 0.1875000000000007), (2, 0.1874999999999996), (3, 0.15624999999999983), (1, 0.09375000000000035)]\n"
     ]
    }
   ],
   "source": [
    "print(sorted(visit.items(), key=operator.itemgetter(1),reverse=True))\n",
    "print(sorted(stationary_dict.items(), key=operator.itemgetter(1),reverse=True))\n"
   ]
  },
  {
   "cell_type": "code",
   "execution_count": 34,
   "metadata": {},
   "outputs": [],
   "source": [
    "percentual_visit = {} \n",
    "\n",
    "for key in visit:\n",
    "   percentual_visit[key] = visit[key]/steps"
   ]
  },
  {
   "cell_type": "code",
   "execution_count": 36,
   "metadata": {},
   "outputs": [
    {
     "data": {
      "image/png": "[encoded data removed]",
      "text/plain": [
       "<Figure size 720x432 with 1 Axes>"
      ]
     },
     "metadata": {
      "needs_background": "light"
     },
     "output_type": "display_data"
    }
   ],
   "source": [
    "plt.figure(figsize=(10,6))\n",
    "\n",
    "D = stationary_dict\n",
    "lists = sorted(D.items()) \n",
    "x, y = zip(*lists) \n",
    "plt.plot(x, y,label = 'Distribuição Estacionária')\n",
    "\n",
    "D = percentual_visit\n",
    "lists = sorted(D.items()) \n",
    "x, y = zip(*lists)\n",
    "plt.plot(x, y,label = 'Percentual de Visitas')\n",
    "\n",
    "plt.legend()\n",
    "plt.show()\n"
   ]
  },
  {
   "cell_type": "code",
   "execution_count": null,
   "metadata": {},
   "outputs": [],
   "source": []
  }
 ],
 "metadata": {
  "kernelspec": {
   "display_name": "Python 3",
   "language": "python",
   "name": "python3"
  },
  "language_info": {
   "codemirror_mode": {
    "name": "ipython",
    "version": 3
   },
   "file_extension": ".py",
   "mimetype": "text/x-python",
   "name": "python",
   "nbconvert_exporter": "python",
   "pygments_lexer": "ipython3",
   "version": "3.8.6"
  }
 },
 "nbformat": 4,
 "nbformat_minor": 4
}

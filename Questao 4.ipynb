{
 "cells": [
  {
   "cell_type": "code",
   "execution_count": 37,
   "metadata": {},
   "outputs": [],
   "source": [
    "import networkx as nx\n",
    "import matplotlib.pyplot as plt\n",
    "import numpy as np\n",
    "import math\n",
    "\n"
   ]
  },
  {
   "cell_type": "code",
   "execution_count": 38,
   "metadata": {},
   "outputs": [
    {
     "data": {
      "image/png": "[encoded data removed]",
      "text/plain": [
       "<Figure size 648x360 with 1 Axes>"
      ]
     },
     "metadata": {},
     "output_type": "display_data"
    }
   ],
   "source": [
    "graph = nx.Graph()\n",
    "\n",
    "graph.add_edge(1, 2, weight=3)\n",
    "graph.add_edge(1, 4, weight=1)\n",
    "graph.add_edge(1, 5, weight=2)\n",
    "graph.add_edge(4, 5, weight=4)\n",
    "graph.add_edge(5, 3, weight=6)\n",
    "\n",
    "\n",
    "options = {\n",
    "    'node_color': 'pink',\n",
    "    'node_size': 500,\n",
    "    'width': 1,\n",
    "}\n",
    "\n",
    "plt.figure(figsize=(9,5))\n",
    "\n",
    "npos=nx.circular_layout(graph,scale=1)\n",
    "labels = nx.get_edge_attributes(graph,'weight')\n",
    "nx.draw_networkx_edge_labels(graph,pos = npos,edge_labels=labels)\n",
    "\n",
    "nx.draw(graph,pos = npos, **options, with_labels=True)\n",
    "plt.show()"
   ]
  },
  {
   "cell_type": "code",
   "execution_count": 39,
   "metadata": {},
   "outputs": [],
   "source": [
    "A = nx.to_numpy_matrix(graph)\n"
   ]
  },
  {
   "cell_type": "code",
   "execution_count": 40,
   "metadata": {},
   "outputs": [
    {
     "name": "stdout",
     "output_type": "stream",
     "text": [
      "[[0.         0.5        0.16666667 0.33333333 0.        ]\n",
      " [1.         0.         0.         0.         0.        ]\n",
      " [0.2        0.         0.         0.8        0.        ]\n",
      " [0.16666667 0.         0.33333333 0.         0.5       ]\n",
      " [0.         0.         0.         1.         0.        ]]\n"
     ]
    }
   ],
   "source": [
    "n = 5\n",
    "P = np.zeros((n,n))\n",
    "\n",
    "for i in range(n):\n",
    "    for j in range(n):\n",
    "        \n",
    "        P[i,j] = A[i,j]/np.sum(A[i,:])\n",
    "        \n",
    "print(P)\n"
   ]
  },
  {
   "cell_type": "code",
   "execution_count": 41,
   "metadata": {},
   "outputs": [],
   "source": [
    "def check_sum_lines(n, P):\n",
    "        \n",
    "    for i in range(n):\n",
    "        for j in range(n):\n",
    "\n",
    "            if(not math.isclose(np.sum(P[i,:]),1)):\n",
    "                print('A matriz não é estocástica')\n",
    "                return False\n",
    "    print('A matriz é estocástica')\n",
    "    return True\n",
    "    "
   ]
  },
  {
   "cell_type": "code",
   "execution_count": 42,
   "metadata": {},
   "outputs": [
    {
     "name": "stdout",
     "output_type": "stream",
     "text": [
      "A matriz é estocástica\n"
     ]
    },
    {
     "data": {
      "text/plain": [
       "True"
      ]
     },
     "execution_count": 42,
     "metadata": {},
     "output_type": "execute_result"
    }
   ],
   "source": [
    "check_sum_lines(n, P)"
   ]
  },
  {
   "cell_type": "code",
   "execution_count": null,
   "metadata": {},
   "outputs": [],
   "source": []
  }
 ],
 "metadata": {
  "kernelspec": {
   "display_name": "Python 3",
   "language": "python",
   "name": "python3"
  },
  "language_info": {
   "codemirror_mode": {
    "name": "ipython",
    "version": 3
   },
   "file_extension": ".py",
   "mimetype": "text/x-python",
   "name": "python",
   "nbconvert_exporter": "python",
   "pygments_lexer": "ipython3",
   "version": "3.8.6"
  }
 },
 "nbformat": 4,
 "nbformat_minor": 4
}

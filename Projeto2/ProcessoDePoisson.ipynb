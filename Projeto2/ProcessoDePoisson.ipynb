{
 "cells": [
  {
   "cell_type": "code",
   "execution_count": 21,
   "metadata": {},
   "outputs": [],
   "source": [
    "import numpy as np\n",
    "import math as math\n",
    "import matplotlib.pyplot as plt\n"
   ]
  },
  {
   "cell_type": "markdown",
   "metadata": {},
   "source": [
    "## Questão 1"
   ]
  },
  {
   "cell_type": "markdown",
   "metadata": {},
   "source": [
    "### a)"
   ]
  },
  {
   "cell_type": "code",
   "execution_count": 5,
   "metadata": {
    "scrolled": true
   },
   "outputs": [
    {
     "name": "stdout",
     "output_type": "stream",
     "text": [
      "P1 =  0.03888874477601955\n",
      "P2 =  0.104444862957054\n",
      "Probabilidade =  0.004061729618703212\n"
     ]
    }
   ],
   "source": [
    "t1 = 3/2\n",
    "t2 = 1\n",
    "k1 = 3\n",
    "k2 = 7\n",
    "lbd = 5\n",
    "Prob1 = (np.exp(-lbd*t1)*(lbd*t1)**k1)/math.factorial(k1)\n",
    "Prob2 = (np.exp(-lbd*t2)*(lbd*t2)**k2)/math.factorial(k2)\n",
    "\n",
    "Prob = Prob1*Prob2\n",
    "print('P1 = ', Prob1)\n",
    "print('P2 = ', Prob2)\n",
    "\n",
    "print('Probabilidade = ', Prob)\n"
   ]
  },
  {
   "cell_type": "markdown",
   "metadata": {},
   "source": [
    "### b) Teórico"
   ]
  },
  {
   "cell_type": "code",
   "execution_count": 17,
   "metadata": {},
   "outputs": [
    {
     "name": "stdout",
     "output_type": "stream",
     "text": [
      "Probabilidade =  0.03471806963068413\n"
     ]
    }
   ],
   "source": [
    "t = 2\n",
    "lbd = 5\n",
    "k = 15\n",
    "Prob = (np.exp(-lbd*t)*(lbd*t)**k)/math.factorial(k)\n",
    "print('Probabilidade = ', Prob)"
   ]
  },
  {
   "cell_type": "markdown",
   "metadata": {},
   "source": [
    "### b) Simulação"
   ]
  },
  {
   "cell_type": "code",
   "execution_count": 33,
   "metadata": {
    "scrolled": true
   },
   "outputs": [
    {
     "data": {
      "image/png": "[encoded data removed]",
      "text/plain": [
       "<Figure size 576x432 with 1 Axes>"
      ]
     },
     "metadata": {
      "needs_background": "light"
     },
     "output_type": "display_data"
    }
   ],
   "source": [
    "lbd = 5\n",
    "tmax = 2\n",
    "nsim = 1000\n",
    "Ns = []\n",
    "for s in range(0,nsim):\n",
    "    te = 0\n",
    "    ne = 0\n",
    "    while (te < tmax):\n",
    "        te = te + np.random.exponential(1/lbd)\n",
    "        if(te < tmax):\n",
    "            ne = ne + 1\n",
    "    Ns.append(ne)\n",
    "plt.figure(figsize=(8,6))\n",
    "bins = range(np.min(Ns), np.max(Ns))\n",
    "plt.hist(x=Ns, bins=bins,color='#0504aa', alpha=0.7, rwidth=0.85, density = True, label='Simulacao')\n",
    "plt.xlabel(r'$N(t)$', fontsize=20)\n",
    "plt.ylabel(r'$P[N(t)]$', fontsize=20)\n",
    "\n",
    "x = range(np.min(Ns),np.max(Ns))\n",
    "P = []\n",
    "for k in x:\n",
    "    prob = (np.exp(-lbd*tmax)*(lbd*tmax)**k)/math.factorial(k)\n",
    "    P.append(prob)\n",
    "        \n",
    "plt.plot(x,P, color = 'red', label='Curva Teorica')\n",
    "plt.legend()\n",
    "plt.show(True)"
   ]
  },
  {
   "cell_type": "markdown",
   "metadata": {},
   "source": [
    "## Questão 2\n",
    "### a)"
   ]
  },
  {
   "cell_type": "code",
   "execution_count": 6,
   "metadata": {},
   "outputs": [
    {
     "name": "stdout",
     "output_type": "stream",
     "text": [
      "Probabilidade =  0.1251100357211333\n"
     ]
    }
   ],
   "source": [
    "t = 1\n",
    "lbd = 10\n",
    "k = 10\n",
    "Prob = (np.exp(-lbd*t)*(lbd*t)**k)/math.factorial(k)\n",
    "print('Probabilidade = ', Prob)"
   ]
  },
  {
   "cell_type": "markdown",
   "metadata": {},
   "source": [
    "### b)"
   ]
  },
  {
   "cell_type": "code",
   "execution_count": 10,
   "metadata": {},
   "outputs": [
    {
     "name": "stdout",
     "output_type": "stream",
     "text": [
      "P1 =  0.03783327480207071\n",
      "P2 =  0.005816306518345136\n",
      "Probabilidade =  0.00022004992284162665\n"
     ]
    }
   ],
   "source": [
    "t1 = 1\n",
    "t2 = 2\n",
    "k1 = 5\n",
    "k2 = 10\n",
    "lbd = 10\n",
    "Prob1 = (np.exp(-lbd*t1)*(lbd*t1)**k1)/math.factorial(k1)\n",
    "Prob2 = (np.exp(-lbd*t2)*(lbd*t2)**k2)/math.factorial(k2)\n",
    "\n",
    "Prob = Prob1*Prob2\n",
    "print('P1 = ', Prob1)\n",
    "print('P2 = ', Prob2)\n",
    "\n",
    "print('Probabilidade = ', Prob)"
   ]
  },
  {
   "cell_type": "markdown",
   "metadata": {},
   "source": [
    "### c)"
   ]
  },
  {
   "cell_type": "code",
   "execution_count": 11,
   "metadata": {},
   "outputs": [
    {
     "name": "stdout",
     "output_type": "stream",
     "text": [
      "P1 =  0.03783327480207071\n",
      "P2 =  5.496409659836154e-05\n",
      "P3 =  0.0010267973817236402\n",
      "Probabilidade =  0.0020252016686706517\n"
     ]
    }
   ],
   "source": [
    "t1 = 1\n",
    "t2 = 2\n",
    "k1 = 5\n",
    "k2 = 5\n",
    "lbd = 10\n",
    "Prob1 = (np.exp(-lbd*t1)*(lbd*t1)**k1)/math.factorial(k1)\n",
    "Prob2 = (np.exp(-lbd*t2)*(lbd*t2)**k2)/math.factorial(k2)\n",
    "\n",
    "Prob = Prob1*Prob2\n",
    "print('P1 = ', Prob1)\n",
    "print('P2 = ', Prob2)\n",
    "t3 = 3\n",
    "k3 = 15\n",
    "Prob3 = (np.exp(-lbd*t3)*(lbd*t3)**k3)/math.factorial(k3)\n",
    "print('P3 = ', Prob3)\n",
    "\n",
    "Prob = Prob/Prob3\n",
    "print('Probabilidade = ', Prob)"
   ]
  },
  {
   "cell_type": "markdown",
   "metadata": {},
   "source": [
    "### d)"
   ]
  },
  {
   "cell_type": "code",
   "execution_count": 18,
   "metadata": {},
   "outputs": [
    {
     "name": "stdout",
     "output_type": "stream",
     "text": [
      "Probabilidade =  0.005816306518345136\n"
     ]
    }
   ],
   "source": [
    "t = 2\n",
    "lbd = 10\n",
    "k = 10\n",
    "Prob = (np.exp(-lbd*t)*(lbd*t)**k)/math.factorial(k)\n",
    "print('Probabilidade = ', Prob)"
   ]
  },
  {
   "cell_type": "markdown",
   "metadata": {},
   "source": [
    "### Questão 4 (falta discutir sobre)"
   ]
  },
  {
   "cell_type": "code",
   "execution_count": 34,
   "metadata": {},
   "outputs": [
    {
     "data": {
      "image/png": "[encoded data removed]",
      "text/plain": [
       "<Figure size 720x432 with 1 Axes>"
      ]
     },
     "metadata": {
      "needs_background": "light"
     },
     "output_type": "display_data"
    }
   ],
   "source": [
    "colors = ['red','blue']\n",
    "lbds = [2,4]\n",
    "tmax = 10\n",
    "plt.figure(figsize=(10,6))\n",
    "aux = 0\n",
    "for lbd in lbds:\n",
    "    N = []\n",
    "    T = []\n",
    "    ne = 0\n",
    "    te = 0\n",
    "    while (te < tmax):\n",
    "        te = te + np.random.exponential(1/lbd)\n",
    "        if(te < tmax):\n",
    "           ne = ne + 1\n",
    "        N.append(ne)\n",
    "        T.append(te)\n",
    "    plt.step(T, N, color = colors[aux], label = \"Lambda = %d\"%lbd)\n",
    "    aux = aux + 1\n",
    "plt.legend()\n",
    "plt.xlabel(r'$t$', fontsize=20)\n",
    "plt.ylabel(r'$N(t)$', fontsize=20)\n",
    "plt.show(True)"
   ]
  },
  {
   "cell_type": "code",
   "execution_count": null,
   "metadata": {},
   "outputs": [],
   "source": []
  }
 ],
 "metadata": {
  "kernelspec": {
   "display_name": "Python 3",
   "language": "python",
   "name": "python3"
  },
  "language_info": {
   "codemirror_mode": {
    "name": "ipython",
    "version": 3
   },
   "file_extension": ".py",
   "mimetype": "text/x-python",
   "name": "python",
   "nbconvert_exporter": "python",
   "pygments_lexer": "ipython3",
   "version": "3.8.6"
  }
 },
 "nbformat": 4,
 "nbformat_minor": 4
}
